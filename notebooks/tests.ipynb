{
 "cells": [
  {
   "cell_type": "code",
   "execution_count": 1,
   "id": "7f465c82-5f32-4909-b375-57b57fe7544a",
   "metadata": {
    "editable": true,
    "slideshow": {
     "slide_type": ""
    },
    "tags": []
   },
   "outputs": [],
   "source": [
    "import sys\n",
    "sys.path.append(\"..\")"
   ]
  },
  {
   "cell_type": "code",
   "execution_count": 2,
   "id": "cf718b54-cbb9-42d4-ab42-96efa317efc8",
   "metadata": {},
   "outputs": [
    {
     "name": "stderr",
     "output_type": "stream",
     "text": [
      "2023-12-14 12:00:20.096789: I tensorflow/core/util/port.cc:111] oneDNN custom operations are on. You may see slightly different numerical results due to floating-point round-off errors from different computation orders. To turn them off, set the environment variable `TF_ENABLE_ONEDNN_OPTS=0`.\n",
      "2023-12-14 12:00:20.162415: E tensorflow/compiler/xla/stream_executor/cuda/cuda_dnn.cc:9342] Unable to register cuDNN factory: Attempting to register factory for plugin cuDNN when one has already been registered\n",
      "2023-12-14 12:00:20.162554: E tensorflow/compiler/xla/stream_executor/cuda/cuda_fft.cc:609] Unable to register cuFFT factory: Attempting to register factory for plugin cuFFT when one has already been registered\n",
      "2023-12-14 12:00:20.162618: E tensorflow/compiler/xla/stream_executor/cuda/cuda_blas.cc:1518] Unable to register cuBLAS factory: Attempting to register factory for plugin cuBLAS when one has already been registered\n",
      "2023-12-14 12:00:20.179134: I tensorflow/core/platform/cpu_feature_guard.cc:182] This TensorFlow binary is optimized to use available CPU instructions in performance-critical operations.\n",
      "To enable the following instructions: AVX2 AVX_VNNI FMA, in other operations, rebuild TensorFlow with the appropriate compiler flags.\n"
     ]
    }
   ],
   "source": [
    "import numpy as np\n",
    "import pandas as pd\n",
    "\n",
    "from pu.feature_extractors.extractors import ViTExtractor, AutoencoderExtractor\n",
    "from pu.data.loaders import CSVLoader, SingleCSVLoader, SingleCSVWithTestLoader\n",
    "from pu.data.pu_builder import build_pu_data\n",
    "\n",
    "from pu.algorithms.pu_algorithms import IterativeClassifierAlgorithm, ProbTagging\n",
    "from pu.algorithms.negative_detectors import NaiveDetector, KNNDetector\n",
    "from pu.algorithms.stop_criterion import StopOnMetricDrop, NonStop\n",
    "\n",
    "from sklearn import svm\n",
    "from sklearn.linear_model import LogisticRegression\n",
    "from sklearn.ensemble import GradientBoostingClassifier\n",
    "from sklearn.metrics import accuracy_score, balanced_accuracy_score"
   ]
  },
  {
   "cell_type": "code",
   "execution_count": 4,
   "id": "31ff69d9-534c-4922-ba7d-8a08b4486722",
   "metadata": {},
   "outputs": [],
   "source": [
    "ava_loader = SingleCSVWithTestLoader(\n",
    "    '/srv/PU-dataset/unlabeled.csv',\n",
    "    'id',\n",
    "    '/srv/PU-dataset/dataset_unlabeled',\n",
    "    reliable_positive_fn=lambda row, _: row['VotesMean'] > 6.5,\n",
    "    positive_fn=lambda row, _: row['VotesMean'] >= 5.0,\n",
    "    test_frac=0.2,\n",
    "    random_state=1234\n",
    ")\n",
    "\n",
    "paths_train_positive, paths_train_unlabeled, paths_test_positive, paths_test_negative = ava_loader.load_data()"
   ]
  },
  {
   "cell_type": "code",
   "execution_count": 4,
   "id": "1c284498-0106-4f02-a560-1952cf9c294d",
   "metadata": {},
   "outputs": [],
   "source": [
    "extractor = ViTExtractor('test_ava')\n",
    "positive_features, unlabeled_features = extractor.extract_features(paths_train_positive, paths_train_unlabeled)\n",
    "\n",
    "positive_features = positive_features.drop(['label', 'id'], axis=1).to_numpy()\n",
    "unlabeled_features = unlabeled_features.drop(['label', 'id'], axis=1).to_numpy()"
   ]
  },
  {
   "cell_type": "code",
   "execution_count": 5,
   "id": "c1bd24cf-fce2-4d8d-80fb-23857d05bec0",
   "metadata": {},
   "outputs": [
    {
     "name": "stdout",
     "output_type": "stream",
     "text": [
      "Total amount: 204278\n",
      "Test amount: 40855\n",
      "Test_positive amount: 2492\n",
      "Test_unlabeled amount: 38363\n",
      "Train amount: 163423\n",
      "Known_positive amount: 4984\n",
      "Unlabeled_amount: 158438\n",
      "Size of positive paths: 12461\n",
      "Size of unlabeled paths: 191817\n"
     ]
    }
   ],
   "source": [
    "# Create partitions\n",
    "X_train, X_val, y_train, y_val = build_pu_data(\n",
    "    positive_features, unlabeled_features,\n",
    "    frac=1.0,\n",
    "    move_to_unlabeled_frac=0.5,\n",
    "    test_split=0.2,\n",
    "    test_split_positive='same'\n",
    ")"
   ]
  },
  {
   "cell_type": "code",
   "execution_count": null,
   "id": "03c4dfa6-a0fc-4e33-a4ea-9f5cecfaea32",
   "metadata": {},
   "outputs": [],
   "source": [
    "# Train the PU algorithm\n",
    "iterative_cls = IterativeClassifierAlgorithm(\n",
    "    negative_detector=KNNDetector(frac=0.1, k=20),\n",
    "    stop_criterion=NonStop('aul'),\n",
    "    classifier_class=LogisticRegression,\n",
    "    max_iterations=20,\n",
    "    verbose=True,\n",
    ")\n",
    "\n",
    "iterative_cls.fit(X_train, y_train, X_test, y_test)\n",
    "\n",
    "print(f'Evolution of f1 score: {iterative_cls.validation_results}')"
   ]
  },
  {
   "cell_type": "code",
   "execution_count": 6,
   "id": "b2211c53-c039-4720-ba05-582b66d42659",
   "metadata": {},
   "outputs": [
    {
     "name": "stdout",
     "output_type": "stream",
     "text": [
      "[0.   0.   0.   ... 0.   0.   0.05] 0.5 0.0 0.027638887135661906\n",
      "Training classifier #0\n",
      "Positives: 4280 // Negatives: 154158\n",
      "Training classifier #1\n",
      "Positives: 4373 // Negatives: 154065\n",
      "Training classifier #2\n",
      "Positives: 4380 // Negatives: 154058\n",
      "Training classifier #3\n",
      "Positives: 4330 // Negatives: 154108\n",
      "Training classifier #4\n",
      "Positives: 4384 // Negatives: 154054\n",
      "Training classifier #5\n",
      "Positives: 4361 // Negatives: 154077\n",
      "Training classifier #6\n",
      "Positives: 4417 // Negatives: 154021\n",
      "Training classifier #7\n",
      "Positives: 4362 // Negatives: 154076\n",
      "Training classifier #8\n",
      "Positives: 4386 // Negatives: 154052\n",
      "Training classifier #9\n",
      "Positives: 4260 // Negatives: 154178\n"
     ]
    }
   ],
   "source": [
    "probtagging = ProbTagging(\n",
    "    knn_num_samples=20,\n",
    "    classifier_class=LogisticRegression,\n",
    "    num_classifiers=10,\n",
    "    verbose=True,\n",
    "    classifier_kwargs={'max_iter':10000}\n",
    ")\n",
    "\n",
    "probtagging.fit(X_train, y_train)"
   ]
  },
  {
   "cell_type": "code",
   "execution_count": 22,
   "id": "de927cef-af89-43ba-8479-dd61e78bc013",
   "metadata": {},
   "outputs": [
    {
     "name": "stderr",
     "output_type": "stream",
     "text": [
      " 56%|████████████████████████                   | 23/41 [01:48<01:24,  4.70s/it]/usr/local/lib/python3.8/dist-packages/PIL/TiffImagePlugin.py:858: UserWarning: Truncated File Read\n",
      "  warnings.warn(str(msg))\n",
      "100%|███████████████████████████████████████████| 41/41 [03:10<00:00,  4.64s/it]\n",
      "100%|███████████████████████████████████████████| 17/17 [01:10<00:00,  4.17s/it]\n"
     ]
    }
   ],
   "source": [
    "test_positive_features, test_negative_features = extractor.extract_features(paths_test_positive, paths_test_negative, use_cache=False)"
   ]
  },
  {
   "cell_type": "code",
   "execution_count": 31,
   "id": "de0c4598-e3b1-4c6c-a83a-80940ac48cee",
   "metadata": {},
   "outputs": [
    {
     "data": {
      "text/plain": [
       "0.6605205640264707"
      ]
     },
     "execution_count": 31,
     "metadata": {},
     "output_type": "execute_result"
    }
   ],
   "source": [
    "test_df = pd.concat([test_positive_features, test_negative_features])\n",
    "X_test, y_test = test_df.drop(columns=['id', 'label']).to_numpy(), test_df['label'].to_numpy()\n",
    "\n",
    "balanced_accuracy_score(y_test, probtagging.predict_proba(X_test) > probtagging.class_prior)"
   ]
  },
  {
   "cell_type": "code",
   "execution_count": null,
   "id": "e15443c1-dd8f-4667-acb4-f119fbdc5eb0",
   "metadata": {},
   "outputs": [],
   "source": []
  }
 ],
 "metadata": {
  "kernelspec": {
   "display_name": "Python 3 (ipykernel)",
   "language": "python",
   "name": "python3"
  },
  "language_info": {
   "codemirror_mode": {
    "name": "ipython",
    "version": 3
   },
   "file_extension": ".py",
   "mimetype": "text/x-python",
   "name": "python",
   "nbconvert_exporter": "python",
   "pygments_lexer": "ipython3",
   "version": "3.8.10"
  }
 },
 "nbformat": 4,
 "nbformat_minor": 5
}
