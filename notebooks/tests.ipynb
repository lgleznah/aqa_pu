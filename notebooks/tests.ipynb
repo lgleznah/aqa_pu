{
 "cells": [
  {
   "cell_type": "code",
   "execution_count": 1,
   "id": "7f465c82-5f32-4909-b375-57b57fe7544a",
   "metadata": {},
   "outputs": [],
   "source": [
    "import sys\n",
    "sys.path.append(\"..\")"
   ]
  },
  {
   "cell_type": "code",
   "execution_count": 2,
   "id": "cf718b54-cbb9-42d4-ab42-96efa317efc8",
   "metadata": {},
   "outputs": [
    {
     "name": "stderr",
     "output_type": "stream",
     "text": [
      "/usr/local/lib/python3.8/dist-packages/tqdm/auto.py:21: TqdmWarning: IProgress not found. Please update jupyter and ipywidgets. See https://ipywidgets.readthedocs.io/en/stable/user_install.html\n",
      "  from .autonotebook import tqdm as notebook_tqdm\n"
     ]
    }
   ],
   "source": [
    "from pu.feature_extractors.extractors import ViTExtractor, AutoencoderExtractor\n",
    "from pu.data.loaders import CSVLoader, SingleCSVLoader, SingleCSVWithTestLoader\n",
    "from pu.data.pu_builder import build_pu_data\n",
    "\n",
    "from pu.algorithms.pu_algorithms import IterativeClassifierAlgorithm\n",
    "from pu.algorithms.negative_detectors import NaiveDetector\n",
    "from pu.algorithms.stop_criterion import StopOnMetricDrop"
   ]
  },
  {
   "cell_type": "code",
   "execution_count": 3,
   "id": "31ff69d9-534c-4922-ba7d-8a08b4486722",
   "metadata": {},
   "outputs": [],
   "source": [
    "ava_loader = SingleCSVWithTestLoader(\n",
    "    '/srv/PU-dataset/unlabeled.csv',\n",
    "    'id',\n",
    "    '/srv/PU-dataset/dataset_unlabeled',\n",
    "    reliable_positive_fn=lambda row: row['VotesMean'] > 6.5,\n",
    "    positive_fn=lambda row: row['VotesMean'] >= 5.0,\n",
    "    test_frac=0.2,\n",
    "    random_state=1234\n",
    ")\n",
    "\n",
    "paths_train_positive, paths_train_unlabeled, paths_test_positive, paths_test_negative = ava_loader.load_data()"
   ]
  },
  {
   "cell_type": "code",
   "execution_count": null,
   "id": "1426c39a-e2d5-48d2-bb94-ea58b45e4388",
   "metadata": {},
   "outputs": [],
   "source": []
  }
 ],
 "metadata": {
  "kernelspec": {
   "display_name": "Python 3 (ipykernel)",
   "language": "python",
   "name": "python3"
  },
  "language_info": {
   "codemirror_mode": {
    "name": "ipython",
    "version": 3
   },
   "file_extension": ".py",
   "mimetype": "text/x-python",
   "name": "python",
   "nbconvert_exporter": "python",
   "pygments_lexer": "ipython3",
   "version": "3.8.10"
  }
 },
 "nbformat": 4,
 "nbformat_minor": 5
}
