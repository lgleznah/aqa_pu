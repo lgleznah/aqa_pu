{
 "cells": [
  {
   "cell_type": "code",
   "execution_count": 1,
   "id": "7f465c82-5f32-4909-b375-57b57fe7544a",
   "metadata": {},
   "outputs": [],
   "source": [
    "import sys\n",
    "sys.path.append(\"..\")"
   ]
  },
  {
   "cell_type": "code",
   "execution_count": 16,
   "id": "cf718b54-cbb9-42d4-ab42-96efa317efc8",
   "metadata": {},
   "outputs": [],
   "source": [
    "import numpy as np\n",
    "import pandas as pd\n",
    "\n",
    "from pu.feature_extractors.extractors import ViTExtractor, AutoencoderExtractor\n",
    "from pu.data.loaders import CSVLoader, SingleCSVLoader, SingleCSVWithTestLoader\n",
    "from pu.data.pu_builder import build_pu_data\n",
    "\n",
    "from pu.algorithms.pu_algorithms import IterativeClassifierAlgorithm\n",
    "from pu.algorithms.negative_detectors import NaiveDetector, KNNDetector\n",
    "from pu.algorithms.stop_criterion import StopOnMetricDrop, NonStop\n",
    "\n",
    "from sklearn import svm\n",
    "from sklearn.linear_model import LogisticRegression\n",
    "from sklearn.ensemble import GradientBoostingClassifier\n",
    "from sklearn.metrics import accuracy_score, balanced_accuracy_score"
   ]
  },
  {
   "cell_type": "code",
   "execution_count": 3,
   "id": "31ff69d9-534c-4922-ba7d-8a08b4486722",
   "metadata": {},
   "outputs": [],
   "source": [
    "ava_loader = SingleCSVWithTestLoader(\n",
    "    '/srv/PU-dataset/unlabeled.csv',\n",
    "    'id',\n",
    "    '/srv/PU-dataset/dataset_unlabeled',\n",
    "    reliable_positive_fn=lambda row: row['VotesMean'] > 6.5,\n",
    "    positive_fn=lambda row: row['VotesMean'] >= 5.0,\n",
    "    test_frac=0.2,\n",
    "    random_state=1234\n",
    ")\n",
    "\n",
    "paths_train_positive, paths_train_unlabeled, paths_test_positive, paths_test_negative = ava_loader.load_data()"
   ]
  },
  {
   "cell_type": "code",
   "execution_count": 4,
   "id": "1c284498-0106-4f02-a560-1952cf9c294d",
   "metadata": {},
   "outputs": [],
   "source": [
    "extractor = ViTExtractor('test_ava')\n",
    "#extractor = AutoencoderExtractor(input_shape=(224, 224, 3), filters=[8,16,32,64,64])\n",
    "positive_features, unlabeled_features = extractor.extract_features(paths_train_positive, paths_train_unlabeled)\n",
    "\n",
    "positive_features = positive_features.drop(['label', 'id'], axis=1).to_numpy()\n",
    "unlabeled_features = unlabeled_features.drop(['label', 'id'], axis=1).to_numpy()"
   ]
  },
  {
   "cell_type": "code",
   "execution_count": 5,
   "id": "c1bd24cf-fce2-4d8d-80fb-23857d05bec0",
   "metadata": {},
   "outputs": [
    {
     "name": "stdout",
     "output_type": "stream",
     "text": [
      "Total amount: 204278\n",
      "Test amount: 40855\n",
      "Test_positive amount: 2492\n",
      "Test_unlabeled amount: 38363\n",
      "Train amount: 163423\n",
      "Known_positive amount: 4984\n",
      "Unlabeled_amount: 158438\n",
      "Size of positive paths: 12461\n",
      "Size of unlabeled paths: 191817\n"
     ]
    }
   ],
   "source": [
    "# Create partitions\n",
    "X_train, X_test, y_train, y_test = build_pu_data(\n",
    "    positive_features, unlabeled_features,\n",
    "    frac=1.0,\n",
    "    move_to_unlabeled_frac=0.5,\n",
    "    test_split=0.2,\n",
    "    test_split_positive='same'\n",
    ")"
   ]
  },
  {
   "cell_type": "code",
   "execution_count": 23,
   "id": "03c4dfa6-a0fc-4e33-a4ea-9f5cecfaea32",
   "metadata": {},
   "outputs": [
    {
     "name": "stdout",
     "output_type": "stream",
     "text": [
      "Iteration #0\n",
      "Number of negatives: 15843\n",
      "Number of positives: 4985\n"
     ]
    },
    {
     "name": "stderr",
     "output_type": "stream",
     "text": [
      "/usr/local/lib/python3.8/dist-packages/sklearn/linear_model/_logistic.py:444: ConvergenceWarning: lbfgs failed to converge (status=1):\n",
      "STOP: TOTAL NO. of ITERATIONS REACHED LIMIT.\n",
      "\n",
      "Increase the number of iterations (max_iter) or scale the data as shown in:\n",
      "    https://scikit-learn.org/stable/modules/preprocessing.html\n",
      "Please also refer to the documentation for alternative solver options:\n",
      "    https://scikit-learn.org/stable/modules/linear_model.html#logistic-regression\n",
      "  n_iter_i = _check_optimize_result(\n"
     ]
    },
    {
     "name": "stdout",
     "output_type": "stream",
     "text": [
      "Finished training classifier\n",
      "Validation metric for iteration 0: 1.2039175105319335\n",
      "Moving 1425 from unlabeled to negative and from unlabeled to positive\n",
      "Iteration #1\n",
      "Number of negatives: 17268\n",
      "Number of positives: 6410\n"
     ]
    },
    {
     "name": "stderr",
     "output_type": "stream",
     "text": [
      "/usr/local/lib/python3.8/dist-packages/sklearn/linear_model/_logistic.py:444: ConvergenceWarning: lbfgs failed to converge (status=1):\n",
      "STOP: TOTAL NO. of ITERATIONS REACHED LIMIT.\n",
      "\n",
      "Increase the number of iterations (max_iter) or scale the data as shown in:\n",
      "    https://scikit-learn.org/stable/modules/preprocessing.html\n",
      "Please also refer to the documentation for alternative solver options:\n",
      "    https://scikit-learn.org/stable/modules/linear_model.html#logistic-regression\n",
      "  n_iter_i = _check_optimize_result(\n"
     ]
    },
    {
     "name": "stdout",
     "output_type": "stream",
     "text": [
      "Finished training classifier\n",
      "Validation metric for iteration 1: 1.2221657411591744\n",
      "Moving 1397 from unlabeled to negative and from unlabeled to positive\n",
      "Iteration #2\n",
      "Number of negatives: 18665\n",
      "Number of positives: 7807\n"
     ]
    },
    {
     "name": "stderr",
     "output_type": "stream",
     "text": [
      "/usr/local/lib/python3.8/dist-packages/sklearn/linear_model/_logistic.py:444: ConvergenceWarning: lbfgs failed to converge (status=1):\n",
      "STOP: TOTAL NO. of ITERATIONS REACHED LIMIT.\n",
      "\n",
      "Increase the number of iterations (max_iter) or scale the data as shown in:\n",
      "    https://scikit-learn.org/stable/modules/preprocessing.html\n",
      "Please also refer to the documentation for alternative solver options:\n",
      "    https://scikit-learn.org/stable/modules/linear_model.html#logistic-regression\n",
      "  n_iter_i = _check_optimize_result(\n"
     ]
    },
    {
     "name": "stdout",
     "output_type": "stream",
     "text": [
      "Finished training classifier\n",
      "Validation metric for iteration 2: 1.2367748307757684\n",
      "Moving 1369 from unlabeled to negative and from unlabeled to positive\n",
      "Iteration #3\n",
      "Number of negatives: 20034\n",
      "Number of positives: 9176\n"
     ]
    },
    {
     "name": "stderr",
     "output_type": "stream",
     "text": [
      "/usr/local/lib/python3.8/dist-packages/sklearn/linear_model/_logistic.py:444: ConvergenceWarning: lbfgs failed to converge (status=1):\n",
      "STOP: TOTAL NO. of ITERATIONS REACHED LIMIT.\n",
      "\n",
      "Increase the number of iterations (max_iter) or scale the data as shown in:\n",
      "    https://scikit-learn.org/stable/modules/preprocessing.html\n",
      "Please also refer to the documentation for alternative solver options:\n",
      "    https://scikit-learn.org/stable/modules/linear_model.html#logistic-regression\n",
      "  n_iter_i = _check_optimize_result(\n"
     ]
    },
    {
     "name": "stdout",
     "output_type": "stream",
     "text": [
      "Finished training classifier\n",
      "Validation metric for iteration 3: 1.2501159696720858\n",
      "Moving 1342 from unlabeled to negative and from unlabeled to positive\n",
      "Iteration #4\n",
      "Number of negatives: 21376\n",
      "Number of positives: 10518\n"
     ]
    },
    {
     "name": "stderr",
     "output_type": "stream",
     "text": [
      "/usr/local/lib/python3.8/dist-packages/sklearn/linear_model/_logistic.py:444: ConvergenceWarning: lbfgs failed to converge (status=1):\n",
      "STOP: TOTAL NO. of ITERATIONS REACHED LIMIT.\n",
      "\n",
      "Increase the number of iterations (max_iter) or scale the data as shown in:\n",
      "    https://scikit-learn.org/stable/modules/preprocessing.html\n",
      "Please also refer to the documentation for alternative solver options:\n",
      "    https://scikit-learn.org/stable/modules/linear_model.html#logistic-regression\n",
      "  n_iter_i = _check_optimize_result(\n"
     ]
    },
    {
     "name": "stdout",
     "output_type": "stream",
     "text": [
      "Finished training classifier\n",
      "Validation metric for iteration 4: 1.258754816503201\n",
      "Moving 1315 from unlabeled to negative and from unlabeled to positive\n",
      "Iteration #5\n",
      "Number of negatives: 22691\n",
      "Number of positives: 11833\n"
     ]
    },
    {
     "name": "stderr",
     "output_type": "stream",
     "text": [
      "/usr/local/lib/python3.8/dist-packages/sklearn/linear_model/_logistic.py:444: ConvergenceWarning: lbfgs failed to converge (status=1):\n",
      "STOP: TOTAL NO. of ITERATIONS REACHED LIMIT.\n",
      "\n",
      "Increase the number of iterations (max_iter) or scale the data as shown in:\n",
      "    https://scikit-learn.org/stable/modules/preprocessing.html\n",
      "Please also refer to the documentation for alternative solver options:\n",
      "    https://scikit-learn.org/stable/modules/linear_model.html#logistic-regression\n",
      "  n_iter_i = _check_optimize_result(\n"
     ]
    },
    {
     "name": "stdout",
     "output_type": "stream",
     "text": [
      "Finished training classifier\n",
      "Validation metric for iteration 5: 1.2678837195285313\n",
      "Moving 1288 from unlabeled to negative and from unlabeled to positive\n",
      "Iteration #6\n",
      "Number of negatives: 23979\n",
      "Number of positives: 13121\n"
     ]
    },
    {
     "name": "stderr",
     "output_type": "stream",
     "text": [
      "/usr/local/lib/python3.8/dist-packages/sklearn/linear_model/_logistic.py:444: ConvergenceWarning: lbfgs failed to converge (status=1):\n",
      "STOP: TOTAL NO. of ITERATIONS REACHED LIMIT.\n",
      "\n",
      "Increase the number of iterations (max_iter) or scale the data as shown in:\n",
      "    https://scikit-learn.org/stable/modules/preprocessing.html\n",
      "Please also refer to the documentation for alternative solver options:\n",
      "    https://scikit-learn.org/stable/modules/linear_model.html#logistic-regression\n",
      "  n_iter_i = _check_optimize_result(\n"
     ]
    },
    {
     "name": "stdout",
     "output_type": "stream",
     "text": [
      "Finished training classifier\n",
      "Validation metric for iteration 6: 1.267686371417331\n",
      "Moving 1263 from unlabeled to negative and from unlabeled to positive\n",
      "Iteration #7\n",
      "Number of negatives: 25242\n",
      "Number of positives: 14384\n"
     ]
    },
    {
     "name": "stderr",
     "output_type": "stream",
     "text": [
      "/usr/local/lib/python3.8/dist-packages/sklearn/linear_model/_logistic.py:444: ConvergenceWarning: lbfgs failed to converge (status=1):\n",
      "STOP: TOTAL NO. of ITERATIONS REACHED LIMIT.\n",
      "\n",
      "Increase the number of iterations (max_iter) or scale the data as shown in:\n",
      "    https://scikit-learn.org/stable/modules/preprocessing.html\n",
      "Please also refer to the documentation for alternative solver options:\n",
      "    https://scikit-learn.org/stable/modules/linear_model.html#logistic-regression\n",
      "  n_iter_i = _check_optimize_result(\n"
     ]
    },
    {
     "name": "stdout",
     "output_type": "stream",
     "text": [
      "Finished training classifier\n",
      "Validation metric for iteration 7: 1.2778233576340352\n",
      "Moving 1237 from unlabeled to negative and from unlabeled to positive\n",
      "Iteration #8\n",
      "Number of negatives: 26479\n",
      "Number of positives: 15621\n"
     ]
    },
    {
     "name": "stderr",
     "output_type": "stream",
     "text": [
      "/usr/local/lib/python3.8/dist-packages/sklearn/linear_model/_logistic.py:444: ConvergenceWarning: lbfgs failed to converge (status=1):\n",
      "STOP: TOTAL NO. of ITERATIONS REACHED LIMIT.\n",
      "\n",
      "Increase the number of iterations (max_iter) or scale the data as shown in:\n",
      "    https://scikit-learn.org/stable/modules/preprocessing.html\n",
      "Please also refer to the documentation for alternative solver options:\n",
      "    https://scikit-learn.org/stable/modules/linear_model.html#logistic-regression\n",
      "  n_iter_i = _check_optimize_result(\n"
     ]
    },
    {
     "name": "stdout",
     "output_type": "stream",
     "text": [
      "Finished training classifier\n",
      "Validation metric for iteration 8: 1.2801664376819901\n",
      "Moving 1213 from unlabeled to negative and from unlabeled to positive\n",
      "Iteration #9\n",
      "Number of negatives: 27692\n",
      "Number of positives: 16834\n"
     ]
    },
    {
     "name": "stderr",
     "output_type": "stream",
     "text": [
      "/usr/local/lib/python3.8/dist-packages/sklearn/linear_model/_logistic.py:444: ConvergenceWarning: lbfgs failed to converge (status=1):\n",
      "STOP: TOTAL NO. of ITERATIONS REACHED LIMIT.\n",
      "\n",
      "Increase the number of iterations (max_iter) or scale the data as shown in:\n",
      "    https://scikit-learn.org/stable/modules/preprocessing.html\n",
      "Please also refer to the documentation for alternative solver options:\n",
      "    https://scikit-learn.org/stable/modules/linear_model.html#logistic-regression\n",
      "  n_iter_i = _check_optimize_result(\n"
     ]
    },
    {
     "name": "stdout",
     "output_type": "stream",
     "text": [
      "Finished training classifier\n",
      "Validation metric for iteration 9: 1.280656759604668\n",
      "Moving 1188 from unlabeled to negative and from unlabeled to positive\n",
      "Iteration #10\n",
      "Number of negatives: 28880\n",
      "Number of positives: 18022\n"
     ]
    },
    {
     "name": "stderr",
     "output_type": "stream",
     "text": [
      "/usr/local/lib/python3.8/dist-packages/sklearn/linear_model/_logistic.py:444: ConvergenceWarning: lbfgs failed to converge (status=1):\n",
      "STOP: TOTAL NO. of ITERATIONS REACHED LIMIT.\n",
      "\n",
      "Increase the number of iterations (max_iter) or scale the data as shown in:\n",
      "    https://scikit-learn.org/stable/modules/preprocessing.html\n",
      "Please also refer to the documentation for alternative solver options:\n",
      "    https://scikit-learn.org/stable/modules/linear_model.html#logistic-regression\n",
      "  n_iter_i = _check_optimize_result(\n"
     ]
    },
    {
     "name": "stdout",
     "output_type": "stream",
     "text": [
      "Finished training classifier\n",
      "Validation metric for iteration 10: 1.2843146850395823\n",
      "Moving 1165 from unlabeled to negative and from unlabeled to positive\n",
      "Iteration #11\n",
      "Number of negatives: 30045\n",
      "Number of positives: 19187\n"
     ]
    },
    {
     "name": "stderr",
     "output_type": "stream",
     "text": [
      "/usr/local/lib/python3.8/dist-packages/sklearn/linear_model/_logistic.py:444: ConvergenceWarning: lbfgs failed to converge (status=1):\n",
      "STOP: TOTAL NO. of ITERATIONS REACHED LIMIT.\n",
      "\n",
      "Increase the number of iterations (max_iter) or scale the data as shown in:\n",
      "    https://scikit-learn.org/stable/modules/preprocessing.html\n",
      "Please also refer to the documentation for alternative solver options:\n",
      "    https://scikit-learn.org/stable/modules/linear_model.html#logistic-regression\n",
      "  n_iter_i = _check_optimize_result(\n"
     ]
    },
    {
     "name": "stdout",
     "output_type": "stream",
     "text": [
      "Finished training classifier\n",
      "Validation metric for iteration 11: 1.2869632131623783\n",
      "Moving 1141 from unlabeled to negative and from unlabeled to positive\n",
      "Iteration #12\n",
      "Number of negatives: 31186\n",
      "Number of positives: 20328\n"
     ]
    },
    {
     "name": "stderr",
     "output_type": "stream",
     "text": [
      "/usr/local/lib/python3.8/dist-packages/sklearn/linear_model/_logistic.py:444: ConvergenceWarning: lbfgs failed to converge (status=1):\n",
      "STOP: TOTAL NO. of ITERATIONS REACHED LIMIT.\n",
      "\n",
      "Increase the number of iterations (max_iter) or scale the data as shown in:\n",
      "    https://scikit-learn.org/stable/modules/preprocessing.html\n",
      "Please also refer to the documentation for alternative solver options:\n",
      "    https://scikit-learn.org/stable/modules/linear_model.html#logistic-regression\n",
      "  n_iter_i = _check_optimize_result(\n"
     ]
    },
    {
     "name": "stdout",
     "output_type": "stream",
     "text": [
      "Finished training classifier\n",
      "Validation metric for iteration 12: 1.2894707542121189\n",
      "Moving 1119 from unlabeled to negative and from unlabeled to positive\n",
      "Iteration #13\n",
      "Number of negatives: 32305\n",
      "Number of positives: 21447\n"
     ]
    },
    {
     "name": "stderr",
     "output_type": "stream",
     "text": [
      "/usr/local/lib/python3.8/dist-packages/sklearn/linear_model/_logistic.py:444: ConvergenceWarning: lbfgs failed to converge (status=1):\n",
      "STOP: TOTAL NO. of ITERATIONS REACHED LIMIT.\n",
      "\n",
      "Increase the number of iterations (max_iter) or scale the data as shown in:\n",
      "    https://scikit-learn.org/stable/modules/preprocessing.html\n",
      "Please also refer to the documentation for alternative solver options:\n",
      "    https://scikit-learn.org/stable/modules/linear_model.html#logistic-regression\n",
      "  n_iter_i = _check_optimize_result(\n"
     ]
    },
    {
     "name": "stdout",
     "output_type": "stream",
     "text": [
      "Finished training classifier\n",
      "Validation metric for iteration 13: 1.2900039244115344\n",
      "Moving 1096 from unlabeled to negative and from unlabeled to positive\n",
      "Iteration #14\n",
      "Number of negatives: 33401\n",
      "Number of positives: 22543\n"
     ]
    },
    {
     "name": "stderr",
     "output_type": "stream",
     "text": [
      "/usr/local/lib/python3.8/dist-packages/sklearn/linear_model/_logistic.py:444: ConvergenceWarning: lbfgs failed to converge (status=1):\n",
      "STOP: TOTAL NO. of ITERATIONS REACHED LIMIT.\n",
      "\n",
      "Increase the number of iterations (max_iter) or scale the data as shown in:\n",
      "    https://scikit-learn.org/stable/modules/preprocessing.html\n",
      "Please also refer to the documentation for alternative solver options:\n",
      "    https://scikit-learn.org/stable/modules/linear_model.html#logistic-regression\n",
      "  n_iter_i = _check_optimize_result(\n"
     ]
    },
    {
     "name": "stdout",
     "output_type": "stream",
     "text": [
      "Finished training classifier\n",
      "Validation metric for iteration 14: 1.2909826057518021\n",
      "Moving 1074 from unlabeled to negative and from unlabeled to positive\n",
      "Iteration #15\n",
      "Number of negatives: 34475\n",
      "Number of positives: 23617\n"
     ]
    },
    {
     "name": "stderr",
     "output_type": "stream",
     "text": [
      "/usr/local/lib/python3.8/dist-packages/sklearn/linear_model/_logistic.py:444: ConvergenceWarning: lbfgs failed to converge (status=1):\n",
      "STOP: TOTAL NO. of ITERATIONS REACHED LIMIT.\n",
      "\n",
      "Increase the number of iterations (max_iter) or scale the data as shown in:\n",
      "    https://scikit-learn.org/stable/modules/preprocessing.html\n",
      "Please also refer to the documentation for alternative solver options:\n",
      "    https://scikit-learn.org/stable/modules/linear_model.html#logistic-regression\n",
      "  n_iter_i = _check_optimize_result(\n"
     ]
    },
    {
     "name": "stdout",
     "output_type": "stream",
     "text": [
      "Finished training classifier\n",
      "Validation metric for iteration 15: 1.2912540567962951\n",
      "Moving 1053 from unlabeled to negative and from unlabeled to positive\n",
      "Iteration #16\n",
      "Number of negatives: 35528\n",
      "Number of positives: 24670\n"
     ]
    },
    {
     "name": "stderr",
     "output_type": "stream",
     "text": [
      "/usr/local/lib/python3.8/dist-packages/sklearn/linear_model/_logistic.py:444: ConvergenceWarning: lbfgs failed to converge (status=1):\n",
      "STOP: TOTAL NO. of ITERATIONS REACHED LIMIT.\n",
      "\n",
      "Increase the number of iterations (max_iter) or scale the data as shown in:\n",
      "    https://scikit-learn.org/stable/modules/preprocessing.html\n",
      "Please also refer to the documentation for alternative solver options:\n",
      "    https://scikit-learn.org/stable/modules/linear_model.html#logistic-regression\n",
      "  n_iter_i = _check_optimize_result(\n"
     ]
    },
    {
     "name": "stdout",
     "output_type": "stream",
     "text": [
      "Finished training classifier\n",
      "Validation metric for iteration 16: 1.290982177734183\n",
      "Moving 1032 from unlabeled to negative and from unlabeled to positive\n",
      "Iteration #17\n",
      "Number of negatives: 36560\n",
      "Number of positives: 25702\n"
     ]
    },
    {
     "name": "stderr",
     "output_type": "stream",
     "text": [
      "/usr/local/lib/python3.8/dist-packages/sklearn/linear_model/_logistic.py:444: ConvergenceWarning: lbfgs failed to converge (status=1):\n",
      "STOP: TOTAL NO. of ITERATIONS REACHED LIMIT.\n",
      "\n",
      "Increase the number of iterations (max_iter) or scale the data as shown in:\n",
      "    https://scikit-learn.org/stable/modules/preprocessing.html\n",
      "Please also refer to the documentation for alternative solver options:\n",
      "    https://scikit-learn.org/stable/modules/linear_model.html#logistic-regression\n",
      "  n_iter_i = _check_optimize_result(\n"
     ]
    },
    {
     "name": "stdout",
     "output_type": "stream",
     "text": [
      "Finished training classifier\n",
      "Validation metric for iteration 17: 1.2905986940429537\n",
      "Moving 1011 from unlabeled to negative and from unlabeled to positive\n",
      "Iteration #18\n",
      "Number of negatives: 37571\n",
      "Number of positives: 26713\n"
     ]
    },
    {
     "name": "stderr",
     "output_type": "stream",
     "text": [
      "/usr/local/lib/python3.8/dist-packages/sklearn/linear_model/_logistic.py:444: ConvergenceWarning: lbfgs failed to converge (status=1):\n",
      "STOP: TOTAL NO. of ITERATIONS REACHED LIMIT.\n",
      "\n",
      "Increase the number of iterations (max_iter) or scale the data as shown in:\n",
      "    https://scikit-learn.org/stable/modules/preprocessing.html\n",
      "Please also refer to the documentation for alternative solver options:\n",
      "    https://scikit-learn.org/stable/modules/linear_model.html#logistic-regression\n",
      "  n_iter_i = _check_optimize_result(\n"
     ]
    },
    {
     "name": "stdout",
     "output_type": "stream",
     "text": [
      "Finished training classifier\n",
      "Validation metric for iteration 18: 1.2913555387606548\n",
      "Moving 991 from unlabeled to negative and from unlabeled to positive\n",
      "Iteration #19\n",
      "Number of negatives: 38562\n",
      "Number of positives: 27704\n",
      "Finished training classifier\n",
      "Validation metric for iteration 19: 1.290335996566417\n",
      "Moving 971 from unlabeled to negative and from unlabeled to positive\n",
      "Evolution of f1 score: [1.2039175105319335, 1.2221657411591744, 1.2367748307757684, 1.2501159696720858, 1.258754816503201, 1.2678837195285313, 1.267686371417331, 1.2778233576340352, 1.2801664376819901, 1.280656759604668, 1.2843146850395823, 1.2869632131623783, 1.2894707542121189, 1.2900039244115344, 1.2909826057518021, 1.2912540567962951, 1.290982177734183, 1.2905986940429537, 1.2913555387606548, 1.290335996566417]\n"
     ]
    },
    {
     "name": "stderr",
     "output_type": "stream",
     "text": [
      "/usr/local/lib/python3.8/dist-packages/sklearn/linear_model/_logistic.py:444: ConvergenceWarning: lbfgs failed to converge (status=1):\n",
      "STOP: TOTAL NO. of ITERATIONS REACHED LIMIT.\n",
      "\n",
      "Increase the number of iterations (max_iter) or scale the data as shown in:\n",
      "    https://scikit-learn.org/stable/modules/preprocessing.html\n",
      "Please also refer to the documentation for alternative solver options:\n",
      "    https://scikit-learn.org/stable/modules/linear_model.html#logistic-regression\n",
      "  n_iter_i = _check_optimize_result(\n"
     ]
    }
   ],
   "source": [
    "# Train the PU algorithm\n",
    "iterative_cls = IterativeClassifierAlgorithm(\n",
    "    negative_detector=KNNDetector(frac=0.1, k=20),\n",
    "    stop_criterion=NonStop('aul'),\n",
    "    classifier_class=LogisticRegression,\n",
    "    max_iterations=20,\n",
    "    verbose=True,\n",
    ")\n",
    "\n",
    "iterative_cls.fit(X_train, y_train, X_test, y_test)\n",
    "\n",
    "print(f'Evolution of f1 score: {iterative_cls.validation_results}')"
   ]
  },
  {
   "cell_type": "code",
   "execution_count": 18,
   "id": "de927cef-af89-43ba-8479-dd61e78bc013",
   "metadata": {},
   "outputs": [
    {
     "name": "stderr",
     "output_type": "stream",
     "text": [
      " 56%|████████████████████████                   | 23/41 [01:47<01:25,  4.73s/it]/usr/local/lib/python3.8/dist-packages/PIL/TiffImagePlugin.py:858: UserWarning: Truncated File Read\n",
      "  warnings.warn(str(msg))\n",
      "100%|███████████████████████████████████████████| 41/41 [03:08<00:00,  4.60s/it]\n",
      "100%|███████████████████████████████████████████| 17/17 [01:10<00:00,  4.12s/it]\n"
     ]
    }
   ],
   "source": [
    "test_positive_features, test_negative_features = extractor.extract_features(paths_test_positive, paths_test_negative, use_cache=False)"
   ]
  },
  {
   "cell_type": "code",
   "execution_count": 24,
   "id": "de0c4598-e3b1-4c6c-a83a-80940ac48cee",
   "metadata": {},
   "outputs": [
    {
     "data": {
      "text/plain": [
       "0.6883290777658075"
      ]
     },
     "execution_count": 24,
     "metadata": {},
     "output_type": "execute_result"
    }
   ],
   "source": [
    "test_df = pd.concat([test_positive_features, test_negative_features])\n",
    "test_data = test_df.drop(columns=['id', 'label']).to_numpy()\n",
    "\n",
    "balanced_accuracy_score(test_df['label'], iterative_cls.predict(test_data))"
   ]
  },
  {
   "cell_type": "code",
   "execution_count": null,
   "id": "76f67598-c775-424b-b509-a2b06b75cdcd",
   "metadata": {},
   "outputs": [],
   "source": []
  }
 ],
 "metadata": {
  "kernelspec": {
   "display_name": "Python 3 (ipykernel)",
   "language": "python",
   "name": "python3"
  },
  "language_info": {
   "codemirror_mode": {
    "name": "ipython",
    "version": 3
   },
   "file_extension": ".py",
   "mimetype": "text/x-python",
   "name": "python",
   "nbconvert_exporter": "python",
   "pygments_lexer": "ipython3",
   "version": "3.8.10"
  }
 },
 "nbformat": 4,
 "nbformat_minor": 5
}
